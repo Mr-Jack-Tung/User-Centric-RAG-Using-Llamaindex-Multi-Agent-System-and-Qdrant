{
 "cells": [
  {
   "cell_type": "code",
   "execution_count": 7,
   "metadata": {},
   "outputs": [
    {
     "name": "stdout",
     "output_type": "stream",
     "text": [
      "OpenAI API key is not working.\n",
      "\n",
      "\n",
      "You tried to access openai.Completion, but this is no longer supported in openai>=1.0.0 - see the README at https://github.com/openai/openai-python for the API.\n",
      "\n",
      "You can run `openai migrate` to automatically upgrade your codebase to use the 1.0.0 interface. \n",
      "\n",
      "Alternatively, you can pin your installation to the old version, e.g. `pip install openai==0.28`\n",
      "\n",
      "A detailed migration guide is available here: https://github.com/openai/openai-python/discussions/742\n",
      "\n"
     ]
    }
   ],
   "source": [
    "import openai\n",
    "\n",
    "openai.api_key = \"sk-proj-RHBC2ylBBK6VZHbhEmmeT3BlbkFJUCwKWSx89Dwu6rcyv9QH\"\n",
    "\n",
    "def test_openai_api():\n",
    "    try:\n",
    "        response = openai.Completion.create(\n",
    "            engine=\"gpt-3.5-turbo\",\n",
    "            prompt=\"Hello, world!\",\n",
    "            max_tokens=5\n",
    "        )\n",
    "        print(\"OpenAI API key is working.\")\n",
    "        print(response.choices[0].text)\n",
    "    except Exception as e:\n",
    "        print(\"OpenAI API key is not working.\")\n",
    "        print(str(e))\n",
    "\n",
    "test_openai_api()\n"
   ]
  }
 ],
 "metadata": {
  "kernelspec": {
   "display_name": "Python 3",
   "language": "python",
   "name": "python3"
  },
  "language_info": {
   "codemirror_mode": {
    "name": "ipython",
    "version": 3
   },
   "file_extension": ".py",
   "mimetype": "text/x-python",
   "name": "python",
   "nbconvert_exporter": "python",
   "pygments_lexer": "ipython3",
   "version": "3.11.3"
  }
 },
 "nbformat": 4,
 "nbformat_minor": 2
}
