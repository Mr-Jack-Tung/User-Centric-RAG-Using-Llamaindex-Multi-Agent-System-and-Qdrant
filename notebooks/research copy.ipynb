{
 "cells": [
  {
   "cell_type": "code",
   "execution_count": 1,
   "metadata": {},
   "outputs": [],
   "source": [
    "import os\n",
    "import json\n",
    "import re\n",
    "from llama_index.core.schema import Document\n",
    "from llama_index.core.node_parser import SentenceSplitter\n",
    "from llama_index.core import SimpleDirectoryReader"
   ]
  },
  {
   "cell_type": "code",
   "execution_count": 2,
   "metadata": {},
   "outputs": [],
   "source": [
    "import logging\n",
    "from dotenv import load_dotenv\n",
    "import os\n",
    "import json\n",
    "from fastembed import SparseTextEmbedding, TextEmbedding\n",
    "from qdrant_client import QdrantClient, models\n",
    "from qdrant_client.http.models import PointStruct, SparseVector\n",
    "from tqdm import tqdm"
   ]
  },
  {
   "cell_type": "code",
   "execution_count": 3,
   "metadata": {},
   "outputs": [
    {
     "data": {
      "text/plain": [
       "True"
      ]
     },
     "execution_count": 3,
     "metadata": {},
     "output_type": "execute_result"
    }
   ],
   "source": [
    "load_dotenv()"
   ]
  },
  {
   "cell_type": "code",
   "execution_count": 4,
   "metadata": {},
   "outputs": [],
   "source": [
    "Qdrant_API_KEY = os.getenv('Qdrant_API_KEY')\n",
    "Qdrant_URL = os.getenv('Qdrant_URL')\n",
    "Collection_Name = os.getenv('collection_name')\n",
    "qdrant_client = QdrantClient(\n",
    "                            url=Qdrant_URL,\n",
    "                            api_key=Qdrant_API_KEY)"
   ]
  },
  {
   "cell_type": "code",
   "execution_count": 5,
   "metadata": {},
   "outputs": [
    {
     "data": {
      "text/plain": [
       "'Agentic-Automation-RAG'"
      ]
     },
     "execution_count": 5,
     "metadata": {},
     "output_type": "execute_result"
    }
   ],
   "source": [
    "Collection_Name"
   ]
  },
  {
   "cell_type": "code",
   "execution_count": 6,
   "metadata": {},
   "outputs": [],
   "source": [
    "def load_nodes():\n",
    "        metadata = []\n",
    "        documents = []\n",
    "        payload_file = r'C:\\Users\\pavan\\Desktop\\Generative AI\\RAG-Automation-Using-Llamaindex-Agents-and-Qdrant\\data\\nodes.json'\n",
    "\n",
    "        try:\n",
    "            with open(payload_file, 'r') as file:\n",
    "                nodes = json.load(file)\n",
    "\n",
    "            for node in nodes:\n",
    "                metadata.append(node['metadata'])\n",
    "                documents.append(node['text'])\n",
    "\n",
    "            print(f\"Loaded {len(nodes)} the nodes from JSON file\")\n",
    "\n",
    "        except Exception as e:\n",
    "            logging.error(f\"Error loading nodes from JSON file: {e}\")\n",
    "            raise\n",
    "\n",
    "        return documents, metadata"
   ]
  },
  {
   "cell_type": "code",
   "execution_count": 9,
   "metadata": {},
   "outputs": [],
   "source": [
    "def client_collection():\n",
    "    \"\"\"\n",
    "    Create a collection in Qdrant vector database.\n",
    "    \"\"\"\n",
    "    \n",
    "    if not qdrant_client.collection_exists(collection_name=Collection_Name): \n",
    "        qdrant_client.create_collection(\n",
    "            collection_name= Collection_Name,\n",
    "            vectors_config={\n",
    "                    'dense': models.VectorParams(\n",
    "                        size=384,\n",
    "                        distance = models.Distance.COSINE,\n",
    "                    )\n",
    "            },\n",
    "            sparse_vectors_config={\n",
    "                \"sparse\": models.SparseVectorParams(\n",
    "                            index=models.SparseIndexParams(\n",
    "                            on_disk=False,              \n",
    "                        ),\n",
    "                    )\n",
    "                }\n",
    "        )\n",
    "        \n",
    "    print(f\"Created collection '{Collection_Name}' in Qdrant vector database.\")\n"
   ]
  },
  {
   "cell_type": "code",
   "execution_count": 10,
   "metadata": {},
   "outputs": [
    {
     "name": "stdout",
     "output_type": "stream",
     "text": [
      "Created collection 'Agentic-Automation-RAG' in Qdrant vector database.\n"
     ]
    }
   ],
   "source": [
    "client_collection()"
   ]
  },
  {
   "cell_type": "code",
   "execution_count": 11,
   "metadata": {},
   "outputs": [],
   "source": [
    "def create_sparse_vector(sparse_embedding_model, text):\n",
    "        \"\"\"\n",
    "        Create a sparse vector from the text using SPLADE.\n",
    "        \"\"\"\n",
    "        sparse_embedding_model = sparse_embedding_model\n",
    "        # Generate the sparse vector using SPLADE model\n",
    "        embeddings = list(sparse_embedding_model.embed([text]))[0]\n",
    "\n",
    "        # Check if embeddings has indices and values attributes\n",
    "        if hasattr(embeddings, 'indices') and hasattr(embeddings, 'values'):\n",
    "            sparse_vector = models.SparseVector(\n",
    "                indices=embeddings.indices.tolist(),\n",
    "                values=embeddings.values.tolist()\n",
    "            )\n",
    "            return sparse_vector\n",
    "        else:\n",
    "            raise ValueError(\"The embeddings object does not have 'indices' and 'values' attributes.\")"
   ]
  },
  {
   "cell_type": "code",
   "execution_count": 12,
   "metadata": {},
   "outputs": [],
   "source": [
    "def insert_documents(embedding_model, documents, metadata):\n",
    "        points = []\n",
    "        embedding_model = TextEmbedding(model_name=embedding_model)\n",
    "        sparse_embedding_model = SparseTextEmbedding(model_name=\"Qdrant/bm42-all-minilm-l6-v2-attentions\")\n",
    "        for i, (doc, metadata) in enumerate(tqdm(zip(documents, metadata), total=len(documents))):\n",
    "            # Generate both dense and sparse embeddings\n",
    "            dense_embedding = list(embedding_model.embed([doc]))[0]\n",
    "            sparse_vector = create_sparse_vector(sparse_embedding_model, doc)\n",
    "\n",
    "            # Create PointStruct\n",
    "            point = models.PointStruct(\n",
    "                id=i,\n",
    "                vector={\n",
    "                    'dense': dense_embedding.tolist(),\n",
    "                    'sparse': sparse_vector,\n",
    "                },\n",
    "                payload={\n",
    "                    'text': doc,\n",
    "                    **metadata  # Include all metadata\n",
    "                }\n",
    "            )\n",
    "            points.append(point)\n",
    "\n",
    "        # Upsert points\n",
    "        qdrant_client.upsert(\n",
    "            collection_name=Collection_Name,\n",
    "            points=points\n",
    "        )\n",
    "\n",
    "        print(f\"Upserted {len(points)} points with dense and sparse vectors into Qdrant vector database.\")"
   ]
  },
  {
   "cell_type": "code",
   "execution_count": 13,
   "metadata": {},
   "outputs": [],
   "source": [
    "def indexing(embedding_model) -> None:\n",
    "        \"\"\"\n",
    "        Index the documents into the Qdrant vector database.\n",
    "        \"\"\"\n",
    "        print(\"Starting to load the nodes from JSON file\")\n",
    "        documents, metadata = load_nodes()\n",
    "        client_collection()\n",
    "        print(\"Creation of the Qdrant Collection is Done\")\n",
    "        insert_documents(embedding_model, documents, metadata)\n",
    "        print(\"Indexing of the nodes is complete\")\n",
    "    \n",
    "    "
   ]
  },
  {
   "cell_type": "code",
   "execution_count": 14,
   "metadata": {},
   "outputs": [
    {
     "name": "stdout",
     "output_type": "stream",
     "text": [
      "Starting to load the nodes from JSON file\n",
      "Loaded 71 the nodes from JSON file\n",
      "Created collection 'Agentic-Automation-RAG' in Qdrant vector database.\n",
      "Creation of the Qdrant Collection is Done\n"
     ]
    },
    {
     "data": {
      "application/vnd.jupyter.widget-view+json": {
       "model_id": "ac61c5a771c04770b6e2c6f181cc5925",
       "version_major": 2,
       "version_minor": 0
      },
      "text/plain": [
       "Fetching 5 files:   0%|          | 0/5 [00:00<?, ?it/s]"
      ]
     },
     "metadata": {},
     "output_type": "display_data"
    },
    {
     "data": {
      "application/vnd.jupyter.widget-view+json": {
       "model_id": "73fdc83ff1fd4c4b8c529dccc3d70534",
       "version_major": 2,
       "version_minor": 0
      },
      "text/plain": [
       "Fetching 6 files:   0%|          | 0/6 [00:00<?, ?it/s]"
      ]
     },
     "metadata": {},
     "output_type": "display_data"
    },
    {
     "name": "stderr",
     "output_type": "stream",
     "text": [
      "100%|██████████| 71/71 [00:16<00:00,  4.25it/s]\n"
     ]
    },
    {
     "name": "stdout",
     "output_type": "stream",
     "text": [
      "Upserted 71 points with dense and sparse vectors into Qdrant vector database.\n",
      "Indexing of the nodes is complete\n"
     ]
    }
   ],
   "source": [
    "indexing(embedding_model = \"sentence-transformers/all-MiniLM-L6-v2\")"
   ]
  },
  {
   "cell_type": "code",
   "execution_count": 9,
   "metadata": {},
   "outputs": [
    {
     "data": {
      "application/vnd.jupyter.widget-view+json": {
       "model_id": "5a4ab00ada5b4226965c586d2d45bba0",
       "version_major": 2,
       "version_minor": 0
      },
      "text/plain": [
       "Fetching 5 files:   0%|          | 0/5 [00:00<?, ?it/s]"
      ]
     },
     "metadata": {},
     "output_type": "display_data"
    },
    {
     "data": {
      "application/vnd.jupyter.widget-view+json": {
       "model_id": "843b9f44cf74465e91edabd320b13fdc",
       "version_major": 2,
       "version_minor": 0
      },
      "text/plain": [
       "Fetching 5 files:   0%|          | 0/5 [00:00<?, ?it/s]"
      ]
     },
     "metadata": {},
     "output_type": "display_data"
    }
   ],
   "source": [
    "qdrant_client.set_model(\"sentence-transformers/all-MiniLM-L6-v2\")\n",
    "# comment this line to use dense vectors only\n",
    "qdrant_client.set_sparse_model(\"prithivida/Splade_PP_en_v1\")"
   ]
  },
  {
   "cell_type": "code",
   "execution_count": 10,
   "metadata": {},
   "outputs": [
    {
     "name": "stderr",
     "output_type": "stream",
     "text": [
      "C:\\Users\\pavan\\AppData\\Local\\Temp\\ipykernel_15400\\4029956761.py:1: DeprecationWarning: `recreate_collection` method is deprecated and will be removed in the future. Use `collection_exists` to check collection existence and `create_collection` instead.\n",
      "  qdrant_client.recreate_collection(\n",
      "INFO:httpx:HTTP Request: DELETE https://c77ac75e-3a41-4acc-98d2-c9c3eb11b5ea.us-east4-0.gcp.cloud.qdrant.io:6333/collections/Hybrid_RAG_Collection \"HTTP/1.1 200 OK\"\n",
      "INFO:httpx:HTTP Request: PUT https://c77ac75e-3a41-4acc-98d2-c9c3eb11b5ea.us-east4-0.gcp.cloud.qdrant.io:6333/collections/Hybrid_RAG_Collection \"HTTP/1.1 200 OK\"\n"
     ]
    },
    {
     "data": {
      "text/plain": [
       "True"
      ]
     },
     "execution_count": 10,
     "metadata": {},
     "output_type": "execute_result"
    }
   ],
   "source": [
    "qdrant_client.recreate_collection(\n",
    "    collection_name=\"Hybrid_RAG_Collection\",\n",
    "    vectors_config=qdrant_client.get_fastembed_vector_params(),\n",
    "    # comment this line to use dense vectors only\n",
    "    sparse_vectors_config=qdrant_client.get_fastembed_sparse_vector_params(),  \n",
    ")"
   ]
  },
  {
   "cell_type": "code",
   "execution_count": 11,
   "metadata": {},
   "outputs": [],
   "source": [
    "import json\n",
    "\n",
    "input_file = r\"C:\\Users\\pavan\\Desktop\\Generative AI\\RAG-Automation-Using-Llamaindex-Agents-and-Qdrant\\data\\nodes.json\"\n",
    "metadata = []\n",
    "documents = []\n",
    "\n",
    "with open(input_file, 'r') as file:\n",
    "        nodes = json.load(file)\n",
    "\n",
    "for node in nodes:\n",
    "    metadata.append(node['metadata'])\n",
    "    documents.append(node['text'])"
   ]
  },
  {
   "cell_type": "code",
   "execution_count": 12,
   "metadata": {},
   "outputs": [
    {
     "data": {
      "text/plain": [
       "71"
      ]
     },
     "execution_count": 12,
     "metadata": {},
     "output_type": "execute_result"
    }
   ],
   "source": [
    "len(documents)"
   ]
  },
  {
   "cell_type": "code",
   "execution_count": 13,
   "metadata": {},
   "outputs": [
    {
     "name": "stderr",
     "output_type": "stream",
     "text": [
      "  0%|          | 0/71 [00:00<?, ?it/s]INFO:httpx:HTTP Request: GET https://c77ac75e-3a41-4acc-98d2-c9c3eb11b5ea.us-east4-0.gcp.cloud.qdrant.io:6333/collections/Hybrid_RAG_Collection \"HTTP/1.1 200 OK\"\n"
     ]
    }
   ],
   "source": [
    "from tqdm import tqdm\n",
    "\n",
    "qdrant_client.add(\n",
    "    collection_name=\"Hybrid_RAG_Collection\",\n",
    "    documents=documents,\n",
    "    metadata=metadata,\n",
    "    ids=tqdm(range(len(documents))),\n",
    ")"
   ]
  },
  {
   "cell_type": "code",
   "execution_count": null,
   "metadata": {},
   "outputs": [],
   "source": [
    "indexing(embedding_model = 'sentence-transformers/all-MiniLM-L6-v2')"
   ]
  },
  {
   "cell_type": "code",
   "execution_count": null,
   "metadata": {},
   "outputs": [],
   "source": [
    "def DocumentPreprocessingAgent(state: dict) -> OpenAIAgent:\n",
    "\n",
    "    \n",
    "\n",
    "    \n",
    "    \n",
    "\n",
    "    def done() -> None:\n",
    "        \"\"\"When you inserted the vetors into the Qdrant Cluster, call this tool.\"\"\"\n",
    "        print(\"Indexing of the nodes is complete\")\n",
    "        state[\"current_speaker\"] = None\n",
    "        state[\"just_finished\"] = True\n",
    "\n",
    "    tools = [\n",
    "        FunctionTool.from_defaults(fn=indexing),\n",
    "        FunctionTool.from_defaults(fn=done),\n",
    "    ]\n",
    "\n",
    "    system_prompt = (f\"\"\"\n",
    "    You are a helpful assistant that is indexing documents for a retrieval-augmented generation (RAG) system.\n",
    "    Your task is to index the documents into a Qdrant cluster.\n",
    "    To do this, you need to know the embedding model to use.\n",
    "    You can ask the user to supply this.\n",
    "    If the user supplies the embedding model, call the tool \"indexing\" with this parameter to index the documents into the Qdrant cluster.\n",
    "    The current user state is:\n",
    "    {pprint.pformat(state, indent=4)}\n",
    "    When you have indexed the documents into the Qdrant cluster, call the tool \"done\" to signal that you are done.\n",
    "    If the user asks to do anything other than index the documents, call the tool \"done\" to signal some other agent should help.\n",
    "    \"\"\")\n",
    "\n",
    "    return OpenAIAgent.from_tools(\n",
    "        tools,\n",
    "        llm=OpenAI(model=\"gpt-3.5-turbo\"),\n",
    "        system_prompt=system_prompt,\n",
    "    )\n"
   ]
  },
  {
   "cell_type": "code",
   "execution_count": null,
   "metadata": {},
   "outputs": [],
   "source": []
  },
  {
   "cell_type": "code",
   "execution_count": null,
   "metadata": {},
   "outputs": [],
   "source": []
  }
 ],
 "metadata": {
  "kernelspec": {
   "display_name": "Python 3",
   "language": "python",
   "name": "python3"
  },
  "language_info": {
   "codemirror_mode": {
    "name": "ipython",
    "version": 3
   },
   "file_extension": ".py",
   "mimetype": "text/x-python",
   "name": "python",
   "nbconvert_exporter": "python",
   "pygments_lexer": "ipython3",
   "version": "3.11.3"
  }
 },
 "nbformat": 4,
 "nbformat_minor": 2
}
